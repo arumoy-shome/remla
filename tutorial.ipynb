{
 "cells": [
  {
   "cell_type": "markdown",
   "id": "018c9687",
   "metadata": {},
   "source": [
    "# Data Validation Tutorial\n",
    "Welcome to the data validation tutorial using tensorflow data validation! In this tutorial we will be using tensorflow data validation (or tfdv) to write data tests. The tutorial is divided into the following segments:\n",
    "\n",
    "1. TFDV Exploration: we will start by exploring the fundamentals of tfdv.\n",
    "2. Data validation: next we will write some *tests* for our data."
   ]
  },
  {
   "cell_type": "code",
   "execution_count": null,
   "id": "baa7eb18",
   "metadata": {},
   "outputs": [],
   "source": [
    "# put your import statements here\n"
   ]
  },
  {
   "cell_type": "markdown",
   "id": "175269f8",
   "metadata": {},
   "source": [
    "## Part 1: TFDV Exploration\n",
    "In this section we will explore the basics of tfdv. Follow the instructions below.\n",
    "\n",
    "### 1.1 Load the data\n",
    "Use `pandas` to load the csv file as a dataframe.\n",
    "\n",
    "+ *Hint*: did you check the [10 minutes with pandas guide]? Did you read the *Getting data in/out* section?\n",
    "+ *Hint*: did you import pandas as `pd`?\n",
    "\n",
    "[10 minutes with pandas guide]: https://pandas.pydata.org/docs/user_guide/10min.html"
   ]
  },
  {
   "cell_type": "code",
   "execution_count": null,
   "id": "11322fa2",
   "metadata": {},
   "outputs": [],
   "source": [
    "# your code here\n"
   ]
  },
  {
   "cell_type": "markdown",
   "id": "3b014f68",
   "metadata": {},
   "source": [
    "### 1.2 Create train-test split\n",
    "Use sklearn to create a 75-25 train-test split (in favour of train).\n",
    "\n",
    "**NOTE**: Use 42 as the `random_state` so that we have reproducible splits.\n",
    "\n",
    "+ *Hint*: did you check the api documentation for [sklearn.model_selection]?\n",
    "+ *Hint*: did you import the necessary function?\n",
    "\n",
    "[sklearn.model_selection]: https://scikit-learn.org/stable/modules/classes.html#module-sklearn.model_selection"
   ]
  },
  {
   "cell_type": "code",
   "execution_count": null,
   "id": "3c8f6c2c",
   "metadata": {},
   "outputs": [],
   "source": [
    "# your code here\n"
   ]
  },
  {
   "cell_type": "markdown",
   "id": "fae6bf8d",
   "metadata": {},
   "source": [
    "### 1.3 Use tfdv to compute statistics for the training set\n",
    "Generate descriptive statistics for the training set using tfdv.\n",
    "\n",
    "+ *Hint*: you already know what to do...[read the docs]! Look for the appropriate `generate_statistics_from...` method.\n",
    "+ *Hint*: did you import tensorflow data validation as `tfdv`?\n",
    "\n",
    "[read the docs]: https://www.tensorflow.org/tfx/data_validation/api_docs/python/tfdv"
   ]
  },
  {
   "cell_type": "code",
   "execution_count": null,
   "id": "7481b45e",
   "metadata": {
    "scrolled": false
   },
   "outputs": [],
   "source": [
    "# your code here\n"
   ]
  },
  {
   "cell_type": "markdown",
   "id": "4e5774bd",
   "metadata": {},
   "source": [
    "### 1.4 Visualise training stats & make observations\n",
    "Lets visualise the statistics for our training set & see how it looks like. In particular, make the following observations:\n",
    "\n",
    "1. Look at the distribution of the features\n",
    "1. Look at the range of values for numerical features\n",
    "1. Look at the values for categorical features\n",
    "1. Do we have any missing values?\n",
    "1. Explore the UI: change the feature sort order, change the chart type, etc.\n",
    "\n",
    "+ *Hint*: there is only one method in tfdv that can do this!"
   ]
  },
  {
   "cell_type": "code",
   "execution_count": null,
   "id": "de074483",
   "metadata": {
    "scrolled": false
   },
   "outputs": [],
   "source": [
    "# your code here\n"
   ]
  },
  {
   "cell_type": "markdown",
   "id": "e90b32f4",
   "metadata": {},
   "source": [
    "***Reflect on the following questions:***\n",
    "\n",
    "1. Is the visualisation provided by tfdv useful?\n",
    "1. Can tfdv be used during data exploration & understanding?\n",
    "1. Do we have any features that do not follow a *normal distribution*? Will this affect the model's performance?"
   ]
  },
  {
   "cell_type": "markdown",
   "id": "c5700fd4",
   "metadata": {},
   "source": [
    "### 1.5 Visualise testing stats & make observations\n",
    "Lets now also make sure that our test set is *similar* to our training set. Generate the statistics for the test set & visulise it alongside the train set.\n",
    "\n",
    "+ *Hint*: did you read the api documentation for the method you used to visualise statistics carefully? Can you visualise statistics of two datasets at the same time?"
   ]
  },
  {
   "cell_type": "code",
   "execution_count": null,
   "id": "be61c965",
   "metadata": {
    "scrolled": false
   },
   "outputs": [],
   "source": [
    "# your code here\n"
   ]
  },
  {
   "cell_type": "markdown",
   "id": "b4bd0817",
   "metadata": {},
   "source": [
    "***Reflect on the following questions:***\n",
    "\n",
    "1. Are the training & testing splits similar?\n",
    "1. Can tfdv be used during data exploration & understanding?"
   ]
  },
  {
   "cell_type": "markdown",
   "id": "c0bad491",
   "metadata": {},
   "source": [
    "## Part 2: Data Validation\n",
    "In this section we will write tests for our data. TFDV does this by first creating a *schema* for our data which specifies what we expect our data to look like. In SE terms, the schema is the *test oracle* which we can use to check if our tests are passing or failing."
   ]
  },
  {
   "cell_type": "markdown",
   "id": "866be1db",
   "metadata": {},
   "source": [
    "### 2.1 Create a schema\n",
    "Generate a schema from the training set."
   ]
  },
  {
   "cell_type": "code",
   "execution_count": null,
   "id": "572e8a41",
   "metadata": {},
   "outputs": [],
   "source": [
    "# your code here\n"
   ]
  },
  {
   "cell_type": "markdown",
   "id": "16a327a8",
   "metadata": {},
   "source": [
    "### 2.2 Inspect the schema\n",
    "\"Pretty print\" the schema that was generated."
   ]
  },
  {
   "cell_type": "code",
   "execution_count": null,
   "id": "1f1bb97f",
   "metadata": {
    "scrolled": true
   },
   "outputs": [],
   "source": [
    "# your code here\n"
   ]
  },
  {
   "cell_type": "markdown",
   "id": "0751abb2",
   "metadata": {},
   "source": [
    "***Reflect on the following:***\n",
    "\n",
    "+ Does the schema make sense?\n",
    "+ Does it need to be modified?\n",
    "+ What about this `Unnamed: 32` column?\n",
    "+ Do we really need the `id` column?"
   ]
  },
  {
   "cell_type": "markdown",
   "id": "3227e5c9",
   "metadata": {},
   "source": [
    "#### 2.2.1 Cleanup the schema\n",
    "Drop the columns we don't need & recreate the schema."
   ]
  },
  {
   "cell_type": "code",
   "execution_count": null,
   "id": "0ed82368",
   "metadata": {},
   "outputs": [],
   "source": [
    "# your code here\n"
   ]
  },
  {
   "cell_type": "markdown",
   "id": "96c38c5a",
   "metadata": {},
   "source": [
    "### 2.3 Inspect anomalies in test set\n",
    "Now lets check if our test set meets the expectations that we define in our schema. First, use tfdv to find the *anomalies* (a.k.a bugs) in our test set and then \"pretty print\" them.\n",
    "\n",
    "+ *Hint*: I will give you the answer for this one! You need to use the `validate_statistics` method followed by the appropriate `display...` method."
   ]
  },
  {
   "cell_type": "code",
   "execution_count": null,
   "id": "07045260",
   "metadata": {},
   "outputs": [],
   "source": [
    "# your code here\n"
   ]
  },
  {
   "cell_type": "markdown",
   "id": "d49b0bdd",
   "metadata": {},
   "source": [
    "### (OPTIONAL) 2.4 Make the bugs go away!\n",
    "Can you fix the issue here? We did this for the training set already!"
   ]
  },
  {
   "cell_type": "code",
   "execution_count": null,
   "id": "0493d2b3",
   "metadata": {},
   "outputs": [],
   "source": [
    "# your code here\n"
   ]
  }
 ],
 "metadata": {
  "kernelspec": {
   "display_name": "Python 3",
   "language": "python",
   "name": "python3"
  },
  "language_info": {
   "codemirror_mode": {
    "name": "ipython",
    "version": 3
   },
   "file_extension": ".py",
   "mimetype": "text/x-python",
   "name": "python",
   "nbconvert_exporter": "python",
   "pygments_lexer": "ipython3",
   "version": "3.8.8"
  }
 },
 "nbformat": 4,
 "nbformat_minor": 5
}
